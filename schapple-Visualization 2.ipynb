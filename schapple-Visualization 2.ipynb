{
 "cells": [
  {
   "cell_type": "code",
   "execution_count": 7,
   "metadata": {},
   "outputs": [
    {
     "data": {
      "text/html": [
       "        <script type=\"text/javascript\">\n",
       "        window.PlotlyConfig = {MathJaxConfig: 'local'};\n",
       "        if (window.MathJax) {MathJax.Hub.Config({SVG: {font: \"STIX-Web\"}});}\n",
       "        if (typeof require !== 'undefined') {\n",
       "        require.undef(\"plotly\");\n",
       "        requirejs.config({\n",
       "            paths: {\n",
       "                'plotly': ['https://cdn.plot.ly/plotly-latest.min']\n",
       "            }\n",
       "        });\n",
       "        require(['plotly'], function(Plotly) {\n",
       "            window._Plotly = Plotly;\n",
       "        });\n",
       "        }\n",
       "        </script>\n",
       "        "
      ]
     },
     "metadata": {},
     "output_type": "display_data"
    },
    {
     "data": {
      "text/plain": [
       "'temp-plot.html'"
      ]
     },
     "execution_count": 7,
     "metadata": {},
     "output_type": "execute_result"
    }
   ],
   "source": [
    "#This is the part where the visuaLization starts \n",
    "import numpy as np\n",
    "import pandas as pd\n",
    "import re\n",
    "import nltk\n",
    "\n",
    "\n",
    "#plotly\n",
    "from plotly import __version__\n",
    "from plotly.offline import download_plotlyjs, init_notebook_mode, plot, iplot \n",
    "from chart_studio.grid_objs import Grid, Column\n",
    "import plotly.graph_objs as go \n",
    "import chart_studio.plotly as py \n",
    "from plotly import tools\n",
    "init_notebook_mode(connected = True)\n",
    "\n",
    "\n",
    "twitter_tweets = pd.read_csv('tweets.csv')\n",
    "fake__users = pd.read_csv('users.csv')\n",
    "tweets_details = pd.read_csv('tweetdetails.csv')\n",
    "\n",
    "\n",
    "\n",
    "#clean the date to a year-month format\n",
    "fake__users['Date'] = pd.to_datetime(fake__users['created_at'])\n",
    "fake__users = fake__users[pd.notnull(fake__users['created_at'])]\n",
    "fake__users = fake__users.drop_duplicates(subset=['id'])\n",
    "fake__users['Date'] = fake__users['Date'].apply(lambda x: x.strftime('%Y-%m'))\n",
    "\n",
    "\n",
    "u_name = pd.DataFrame(fake__users.name.str.split(' ',1).tolist(),columns = ['first','last'])\n",
    "user_name = u_name.groupby('first',as_index=False).size().reset_index(name='counts') \n",
    "users_name = user_name.sort_values('counts', ascending=False).head(20)\n",
    "\n",
    "\n",
    "\n",
    "users = fake__users.groupby('Date', as_index = False).size().reset_index(name='counts')\n",
    "userssum = users.sort_values('Date')\n",
    "\n",
    "trace0 = go.Bar(name = \"Accounts Created Over Time\",x = userssum.Date, y = userssum.counts)\n",
    "data = ([trace0])\n",
    "\n",
    "layout = go.Layout(\n",
    "    title = \"Accounts created 2009-2017\",\n",
    "    yaxis = dict(\n",
    "        title = 'No. of Accounts created',\n",
    "        range = [0,100],\n",
    "        titlefont=dict(\n",
    "            size=20,\n",
    "        )\n",
    "    ),\n",
    "\n",
    "    xaxis = dict(\n",
    "        title = 'Year',\n",
    "        range = ['2009-01', '2017-1'],\n",
    "        titlefont=dict(\n",
    "            size=20,\n",
    "        )\n",
    "    )\n",
    ")\n",
    "\n",
    "fig=go.Figure(data=data, layout=layout)\n",
    "fig['layout'].update()\n",
    "plot(fig)\n",
    "\n",
    "\n",
    "'temp-plot.html'"
   ]
  },
  {
   "cell_type": "code",
   "execution_count": 6,
   "metadata": {},
   "outputs": [
    {
     "data": {
      "text/html": [
       "        <script type=\"text/javascript\">\n",
       "        window.PlotlyConfig = {MathJaxConfig: 'local'};\n",
       "        if (window.MathJax) {MathJax.Hub.Config({SVG: {font: \"STIX-Web\"}});}\n",
       "        if (typeof require !== 'undefined') {\n",
       "        require.undef(\"plotly\");\n",
       "        requirejs.config({\n",
       "            paths: {\n",
       "                'plotly': ['https://cdn.plot.ly/plotly-latest.min']\n",
       "            }\n",
       "        });\n",
       "        require(['plotly'], function(Plotly) {\n",
       "            window._Plotly = Plotly;\n",
       "        });\n",
       "        }\n",
       "        </script>\n",
       "        "
      ]
     },
     "metadata": {},
     "output_type": "display_data"
    },
    {
     "name": "stderr",
     "output_type": "stream",
     "text": [
      "C:\\ProgramData\\Anaconda3\\lib\\site-packages\\ipykernel_launcher.py:26: FutureWarning:\n",
      "\n",
      "Method .as_matrix will be removed in a future version. Use .values instead.\n",
      "\n"
     ]
    },
    {
     "data": {
      "text/plain": [
       "'tweets.html'"
      ]
     },
     "execution_count": 6,
     "metadata": {},
     "output_type": "execute_result"
    }
   ],
   "source": [
    "#This is the part where the visuaLization starts \n",
    "import numpy as np\n",
    "import pandas as pd\n",
    "import re\n",
    "import nltk\n",
    "\n",
    "\n",
    "#plotly\n",
    "from plotly import __version__\n",
    "from plotly.offline import download_plotlyjs, init_notebook_mode, plot, iplot \n",
    "from chart_studio.grid_objs import Grid, Column\n",
    "import plotly.graph_objs as go \n",
    "import chart_studio.plotly as py \n",
    "from plotly import tools\n",
    "init_notebook_mode(connected = True)\n",
    "\n",
    "\n",
    "twitter_tweets = pd.read_csv('tweets.csv')\n",
    "fake__users = pd.read_csv('users.csv')\n",
    "tweets_details = pd.read_csv('tweetdetails.csv')\n",
    "\n",
    "\n",
    "#heat map showing the days and hours of users\n",
    "m = pd.pivot_table(tweets_details,values = 'user_key',index='created_strDayofweek', \n",
    "                   columns='created_strMonth', aggfunc=len,fill_value=0, dropna=False) \n",
    "z= m.as_matrix()\n",
    "\n",
    "\n",
    "\n",
    "trace = go.Heatmap(z=z,\n",
    "x=[i for i in np.arange(0,24)],\n",
    "y=['Sunday','Mondays', 'Tuesdays', 'wednesday', 'Thursday', 'Friday','Saturday'], \n",
    "                   colorscale = 'jet'\n",
    "                  )\n",
    "layout = go.Layout(\n",
    "    title='No. of Tweets Per Day Per Month',\n",
    "    xaxis=dict(\n",
    "        nticks=24,\n",
    "        title = 'Month',\n",
    "        titlefont=dict(\n",
    "        size=20)),\n",
    "    yaxis = dict( \n",
    "    ),\n",
    "\n",
    ")\n",
    "data=[trace]\n",
    "fig = go. Figure(data=data,layout=layout) \n",
    "fig['layout'].update()\n",
    "plot(fig, filename='tweets.html')\n"
   ]
  },
  {
   "cell_type": "code",
   "execution_count": null,
   "metadata": {},
   "outputs": [],
   "source": []
  },
  {
   "cell_type": "code",
   "execution_count": null,
   "metadata": {},
   "outputs": [],
   "source": []
  }
 ],
 "metadata": {
  "kernelspec": {
   "display_name": "Python 3",
   "language": "python",
   "name": "python3"
  },
  "language_info": {
   "codemirror_mode": {
    "name": "ipython",
    "version": 3
   },
   "file_extension": ".py",
   "mimetype": "text/x-python",
   "name": "python",
   "nbconvert_exporter": "python",
   "pygments_lexer": "ipython3",
   "version": "3.7.3"
  }
 },
 "nbformat": 4,
 "nbformat_minor": 2
}
